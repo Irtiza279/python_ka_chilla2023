{
  "cells": [
    {
      "cell_type": "markdown",
      "metadata": {
        "id": "view-in-github",
        "colab_type": "text"
      },
      "source": [
        "<a href=\"https://colab.research.google.com/github/Irtiza279/python_ka_chilla2023/blob/main/Fake%20and%20Real%20news%20Detection.ipynb\" target=\"_parent\"><img src=\"https://colab.research.google.com/assets/colab-badge.svg\" alt=\"Open In Colab\"/></a>"
      ]
    },
    {
      "cell_type": "code",
      "execution_count": null,
      "metadata": {
        "id": "-82AlyFPjZ2N"
      },
      "outputs": [],
      "source": [
        "from google.colab import drive\n",
        "drive.mount('/content/drive')"
      ]
    },
    {
      "cell_type": "code",
      "execution_count": null,
      "metadata": {
        "id": "DQWGMT3buE0V"
      },
      "outputs": [],
      "source": [
        "!pip install nltk scikit-learn pandas numpy flask-ngrok"
      ]
    },
    {
      "cell_type": "code",
      "source": [
        "# prompt: instal sklearn for feature extration text\n",
        "\n",
        "!pip install -U scikit-learn\n"
      ],
      "metadata": {
        "id": "SvuB0kRX1deE"
      },
      "execution_count": null,
      "outputs": []
    },
    {
      "cell_type": "code",
      "execution_count": 7,
      "metadata": {
        "id": "TUV53ae0txlh"
      },
      "outputs": [],
      "source": [
        "import pandas as pd\n",
        "import numpy as np\n",
        "import seaborn as sns\n",
        "import matplotlib.pyplot as plt\n",
        "from sklearn.model_selection import train_test_split\n",
        "from sklearn.metrics import accuracy_score\n",
        "from sklearn.metrics import classification_report\n",
        "import re\n",
        "import string"
      ]
    },
    {
      "cell_type": "code",
      "execution_count": 8,
      "metadata": {
        "id": "aWQIrDzTtxh4"
      },
      "outputs": [],
      "source": [
        "true = pd.read_csv('/content/drive/MyDrive/True.csv/True.csv')\n",
        "fake = pd.read_csv('/content/drive/MyDrive/Fake.csv/Fake.csv')"
      ]
    },
    {
      "cell_type": "code",
      "execution_count": null,
      "metadata": {
        "id": "FVS0wItstxde"
      },
      "outputs": [],
      "source": [
        "true.head()"
      ]
    },
    {
      "cell_type": "code",
      "execution_count": null,
      "metadata": {
        "id": "D9Sx9I1itxWC"
      },
      "outputs": [],
      "source": [
        "fake.head()"
      ]
    },
    {
      "cell_type": "code",
      "execution_count": null,
      "metadata": {
        "id": "rt2AhXejqxVW"
      },
      "outputs": [],
      "source": [
        "fake.head()"
      ]
    },
    {
      "cell_type": "code",
      "execution_count": 12,
      "metadata": {
        "id": "IB6N5Q1jgNK5"
      },
      "outputs": [],
      "source": [
        "fake['label']= 0\n",
        "true['label']= 1"
      ]
    },
    {
      "cell_type": "code",
      "source": [
        "fake.shape, true.shape"
      ],
      "metadata": {
        "id": "74uw2d87uKZd"
      },
      "execution_count": null,
      "outputs": []
    },
    {
      "cell_type": "code",
      "source": [
        "fake_manual_testing = fake.tail(10)\n",
        "for i in range(23480,23470,-1):\n",
        "    fake.drop([i], axis=0, inplace=True)\n",
        "\n",
        "true_manual_testing = true.tail(10)\n",
        "for i in range(21416,21406,-1):\n",
        "    true.drop([i], axis=0, inplace=True)"
      ],
      "metadata": {
        "id": "KjwONO7iuKQo"
      },
      "execution_count": 14,
      "outputs": []
    },
    {
      "cell_type": "code",
      "source": [
        "fake_manual_testing['label']= 0\n",
        "true_manual_testing['label']= 1"
      ],
      "metadata": {
        "id": "wkLXxavmuKNg"
      },
      "execution_count": null,
      "outputs": []
    },
    {
      "cell_type": "code",
      "source": [
        "fake_manual_testing.head(5)"
      ],
      "metadata": {
        "id": "ghN0MZciuKH0"
      },
      "execution_count": null,
      "outputs": []
    },
    {
      "cell_type": "code",
      "source": [
        "true_manual_testing.head(5)"
      ],
      "metadata": {
        "id": "aUx_2yORuKEd"
      },
      "execution_count": null,
      "outputs": []
    },
    {
      "cell_type": "code",
      "source": [
        "manual_testing = pd.concat([fake_manual_testing, true_manual_testing], axis=0)\n",
        "manual_testing.to_csv('/content/drive/MyDrive/manual_testing.csv')"
      ],
      "metadata": {
        "id": "Cdr5Xig3vL3s"
      },
      "execution_count": 18,
      "outputs": []
    },
    {
      "cell_type": "code",
      "source": [
        "df_marge = pd.concat([fake, true], axis=0)\n",
        "df_marge.head()"
      ],
      "metadata": {
        "id": "U3JJajHMvge1"
      },
      "execution_count": null,
      "outputs": []
    },
    {
      "cell_type": "code",
      "source": [
        "df_marge.tail()"
      ],
      "metadata": {
        "id": "teLjf5W5vny7"
      },
      "execution_count": null,
      "outputs": []
    },
    {
      "cell_type": "code",
      "source": [
        "df_marge.columns"
      ],
      "metadata": {
        "id": "XWWNEbDevu26"
      },
      "execution_count": null,
      "outputs": []
    },
    {
      "cell_type": "code",
      "source": [
        "df = df_marge.drop(['title', 'subject', 'date'], axis = 1)"
      ],
      "metadata": {
        "id": "qDjzeBJQv6mr"
      },
      "execution_count": 22,
      "outputs": []
    },
    {
      "cell_type": "code",
      "source": [
        "df.isnull().sum()"
      ],
      "metadata": {
        "id": "2L-3F2w5wFN3"
      },
      "execution_count": null,
      "outputs": []
    },
    {
      "cell_type": "code",
      "source": [
        "df = df.sample(frac = 1)"
      ],
      "metadata": {
        "id": "UiIGUEhHwT7w"
      },
      "execution_count": 24,
      "outputs": []
    },
    {
      "cell_type": "code",
      "source": [
        "df.head()"
      ],
      "metadata": {
        "id": "sc5dwOAswhfe"
      },
      "execution_count": null,
      "outputs": []
    },
    {
      "cell_type": "code",
      "source": [
        "df.reset_index(inplace = True)\n",
        "df.drop(['index'], axis = 1, inplace = True)"
      ],
      "metadata": {
        "id": "APvWk0nYwkhO"
      },
      "execution_count": 26,
      "outputs": []
    },
    {
      "cell_type": "code",
      "source": [
        "df.head()"
      ],
      "metadata": {
        "id": "l-X0lAEgxF5u"
      },
      "execution_count": null,
      "outputs": []
    },
    {
      "cell_type": "code",
      "source": [
        " def wordopt(text):\n",
        "    text = text.lower()\n",
        "    text = re.sub('\\[.*?\\]', '', text)\n",
        "    text = re.sub(\"\\\\W\", \" \", text)\n",
        "    text = re.sub('https?://\\S+|www\\.\\S+', '', text)\n",
        "    text = re.sub('<.*?>+', '', text)\n",
        "    text = re.sub('[%s]' % re.escape(string.punctuation), '', text)\n",
        "    text = re.sub('\\n', '', text)\n",
        "    text = re.sub('\\w*\\d\\w*', '', text)\n",
        "    return text"
      ],
      "metadata": {
        "id": "o6uKm8m8xHrI"
      },
      "execution_count": 28,
      "outputs": []
    },
    {
      "cell_type": "code",
      "source": [
        "df[\"text\"] = df[\"text\"].apply(wordopt)"
      ],
      "metadata": {
        "id": "82LzD-ppyW2R"
      },
      "execution_count": 29,
      "outputs": []
    },
    {
      "cell_type": "code",
      "source": [
        "x = df[\"text\"]\n",
        "y = df['label']"
      ],
      "metadata": {
        "id": "3gmPVk_gyaJx"
      },
      "execution_count": 30,
      "outputs": []
    },
    {
      "cell_type": "code",
      "source": [
        " x_train, x_test, y_train, y_test = train_test_split(x, y, test_size = 0.25)"
      ],
      "metadata": {
        "id": "XU9aNqMNy9wL"
      },
      "execution_count": 31,
      "outputs": []
    },
    {
      "cell_type": "code",
      "source": [
        "from sklearn.feature_extraction.text import TfidfVectorizer\n",
        "vectorization = TfidfVectorizer()\n",
        "xv_train = vectorization.fit_transform(x_train)\n",
        "xv_test = vectorization.transform(x_test)"
      ],
      "metadata": {
        "id": "2vx2L7lBzJ6m"
      },
      "execution_count": 32,
      "outputs": []
    },
    {
      "cell_type": "code",
      "source": [
        "from sklearn.linear_model import LogisticRegression\n",
        "LR = LogisticRegression()\n",
        "LR.fit(xv_train, y_train)"
      ],
      "metadata": {
        "id": "OPha753W5BZ1"
      },
      "execution_count": null,
      "outputs": []
    },
    {
      "cell_type": "code",
      "source": [
        "pred_lr = LR.predict(xv_test)\n",
        "LR.score(xv_test, y_test)"
      ],
      "metadata": {
        "id": "2gsWoIXJ6VSJ"
      },
      "execution_count": null,
      "outputs": []
    },
    {
      "cell_type": "code",
      "source": [
        "print(classification_report(y_test, pred_lr))"
      ],
      "metadata": {
        "id": "0VYjtgVr6dad"
      },
      "execution_count": null,
      "outputs": []
    },
    {
      "cell_type": "code",
      "source": [
        "from sklearn.naive_bayes import BernoulliNB\n",
        "NB = BernoulliNB()\n",
        "NB.fit(xv_train, y_train)"
      ],
      "metadata": {
        "id": "XZNFLQyd6i8S"
      },
      "execution_count": null,
      "outputs": []
    },
    {
      "cell_type": "code",
      "source": [
        "pred_nb = NB.predict(xv_test)\n",
        "NB.score(xv_test, y_test)"
      ],
      "metadata": {
        "id": "GBdtK4Un6ub5"
      },
      "execution_count": null,
      "outputs": []
    },
    {
      "cell_type": "code",
      "source": [
        "print(classification_report(y_test, pred_nb))"
      ],
      "metadata": {
        "id": "fIZooJ8f638j"
      },
      "execution_count": null,
      "outputs": []
    },
    {
      "cell_type": "code",
      "source": [
        "from sklearn.tree import DecisionTreeClassifier\n",
        "DT = DecisionTreeClassifier()\n",
        "DT.fit(xv_train, y_train)"
      ],
      "metadata": {
        "id": "E14vkFCRFkh2"
      },
      "execution_count": null,
      "outputs": []
    },
    {
      "cell_type": "code",
      "source": [
        "pred_dt = DT.predict(xv_test)\n",
        "DT.score(xv_test, y_test)"
      ],
      "metadata": {
        "id": "LaC9AY2lFs5l"
      },
      "execution_count": null,
      "outputs": []
    },
    {
      "cell_type": "code",
      "source": [
        "print(classification_report(y_test, pred_dt))"
      ],
      "metadata": {
        "id": "t_PvbVFaFsyh"
      },
      "execution_count": null,
      "outputs": []
    },
    {
      "cell_type": "code",
      "source": [
        "from sklearn.ensemble import RandomForestClassifier\n",
        "RFC = RandomForestClassifier(random_state=0)\n",
        "RFC.fit(xv_train, y_train)"
      ],
      "metadata": {
        "id": "goDdLFuQFstc"
      },
      "execution_count": null,
      "outputs": []
    },
    {
      "cell_type": "code",
      "source": [
        "pred_rfc = RFC.predict(xv_test)\n",
        "RFC.score(xv_test, y_test)"
      ],
      "metadata": {
        "id": "oGhR8UMoFsoC"
      },
      "execution_count": null,
      "outputs": []
    },
    {
      "cell_type": "code",
      "source": [
        "print(classification_report(y_test, pred_rfc))"
      ],
      "metadata": {
        "id": "NHsqIkA3Fsbl"
      },
      "execution_count": null,
      "outputs": []
    },
    {
      "cell_type": "code",
      "source": [
        "def output_label(n):\n",
        "    if n == 0:\n",
        "        return \"Fake News\"\n",
        "    elif n == 1:\n",
        "        return \"Not A Fake News\"\n",
        "def manual_testing(news):\n",
        "    testing_news = {\"text\":[news]}\n",
        "    new_def_test = pd.DataFrame(testing_news)\n",
        "    new_def_test[\"text\"] = new_def_test[\"text\"].apply(wordopt)\n",
        "    new_x_test = new_def_test[\"text\"]\n",
        "    new_xv_test = vectorization.transform(new_x_test)\n",
        "    pred_LR = LR.predict(new_xv_test)\n",
        "    pred_NB = NB.predict(new_xv_test)\n",
        "    pred_DT = DT.predict(new_xv_test)\n",
        "    pred_RFC = RFC.predict(new_xv_test)\n",
        "    return print(\"\\n\\nLR Prediction: {} \\nNB Prediction: {} \\nDT Prediction: {} \\nRFC Prediction: {}\".format(output_label(pred_LR[0]),\n",
        "                                                                                                              output_label(pred_NB[0]),\n",
        "                                                                                                              output_label(pred_DT[0]),\n",
        "                                                                                                              output_label(pred_RFC[0])))"
      ],
      "metadata": {
        "id": "2e-Fnu-LAo1K"
      },
      "execution_count": 48,
      "outputs": []
    },
    {
      "cell_type": "code",
      "source": [
        "news = str(input())\n",
        "manual_testing(news)"
      ],
      "metadata": {
        "id": "WIJ-KbI67G6e"
      },
      "execution_count": null,
      "outputs": []
    }
  ],
  "metadata": {
    "colab": {
      "provenance": [],
      "authorship_tag": "ABX9TyM+bjVfZqlLbzK+26Wus3pV",
      "include_colab_link": true
    },
    "kernelspec": {
      "display_name": "Python 3",
      "name": "python3"
    },
    "language_info": {
      "name": "python"
    }
  },
  "nbformat": 4,
  "nbformat_minor": 0
}